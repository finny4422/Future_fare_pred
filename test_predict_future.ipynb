{
 "cells": [
  {
   "cell_type": "code",
   "execution_count": 23,
   "id": "613fdc36-b26e-4c6d-903e-29cd7d26c8ff",
   "metadata": {},
   "outputs": [],
   "source": [
    "import numpy as np\n",
    "import seaborn as sns\n",
    "import matplotlib.pyplot as plt\n",
    "import pandas as pd\n",
    "import pickle"
   ]
  },
  {
   "cell_type": "code",
   "execution_count": 24,
   "id": "a48f6632-76e3-42e4-ac9e-0efa71832f38",
   "metadata": {},
   "outputs": [],
   "source": [
    "model=open('model.pkl', 'rb')\n",
    "rf=pickle.load(model)"
   ]
  },
  {
   "cell_type": "code",
   "execution_count": 25,
   "id": "a1b54d4a-6381-4a68-8132-aaff88ec7b2d",
   "metadata": {},
   "outputs": [
    {
     "data": {
      "text/html": [
       "<div>\n",
       "<style scoped>\n",
       "    .dataframe tbody tr th:only-of-type {\n",
       "        vertical-align: middle;\n",
       "    }\n",
       "\n",
       "    .dataframe tbody tr th {\n",
       "        vertical-align: top;\n",
       "    }\n",
       "\n",
       "    .dataframe thead th {\n",
       "        text-align: right;\n",
       "    }\n",
       "</style>\n",
       "<table border=\"1\" class=\"dataframe\">\n",
       "  <thead>\n",
       "    <tr style=\"text-align: right;\">\n",
       "      <th></th>\n",
       "      <th>Unnamed: 0</th>\n",
       "      <th>Airline</th>\n",
       "      <th>Date_of_Journey</th>\n",
       "      <th>Source</th>\n",
       "      <th>Destination</th>\n",
       "      <th>Route</th>\n",
       "      <th>Dep_Time</th>\n",
       "      <th>Arrival_Time</th>\n",
       "      <th>Duration</th>\n",
       "      <th>Total_Stops</th>\n",
       "      <th>Additional_Info</th>\n",
       "      <th>Price</th>\n",
       "    </tr>\n",
       "  </thead>\n",
       "  <tbody>\n",
       "    <tr>\n",
       "      <th>0</th>\n",
       "      <td>0</td>\n",
       "      <td>Jet Airways</td>\n",
       "      <td>27/03/2019</td>\n",
       "      <td>Delhi</td>\n",
       "      <td>Cochin</td>\n",
       "      <td>DEL → MAA → BOM → COK</td>\n",
       "      <td>05:10</td>\n",
       "      <td>18:50</td>\n",
       "      <td>13h 40m</td>\n",
       "      <td>2 stops</td>\n",
       "      <td>In-flight meal not included</td>\n",
       "      <td>8728</td>\n",
       "    </tr>\n",
       "    <tr>\n",
       "      <th>1</th>\n",
       "      <td>1</td>\n",
       "      <td>Jet Airways</td>\n",
       "      <td>1/05/2019</td>\n",
       "      <td>Kolkata</td>\n",
       "      <td>Banglore</td>\n",
       "      <td>CCU → DEL → BLR</td>\n",
       "      <td>20:25</td>\n",
       "      <td>14:25 02 May</td>\n",
       "      <td>18h</td>\n",
       "      <td>1 stop</td>\n",
       "      <td>No info</td>\n",
       "      <td>11467</td>\n",
       "    </tr>\n",
       "    <tr>\n",
       "      <th>2</th>\n",
       "      <td>2</td>\n",
       "      <td>Multiple carriers</td>\n",
       "      <td>6/03/2019</td>\n",
       "      <td>Delhi</td>\n",
       "      <td>Cochin</td>\n",
       "      <td>DEL → BOM → COK</td>\n",
       "      <td>09:00</td>\n",
       "      <td>15:30</td>\n",
       "      <td>6h 30m</td>\n",
       "      <td>1 stop</td>\n",
       "      <td>No info</td>\n",
       "      <td>15078</td>\n",
       "    </tr>\n",
       "    <tr>\n",
       "      <th>3</th>\n",
       "      <td>3</td>\n",
       "      <td>Multiple carriers</td>\n",
       "      <td>6/06/2019</td>\n",
       "      <td>Delhi</td>\n",
       "      <td>Cochin</td>\n",
       "      <td>DEL → BOM → COK</td>\n",
       "      <td>17:00</td>\n",
       "      <td>01:30 07 Jun</td>\n",
       "      <td>8h 30m</td>\n",
       "      <td>1 stop</td>\n",
       "      <td>No info</td>\n",
       "      <td>7198</td>\n",
       "    </tr>\n",
       "    <tr>\n",
       "      <th>4</th>\n",
       "      <td>4</td>\n",
       "      <td>Air India</td>\n",
       "      <td>24/06/2019</td>\n",
       "      <td>Delhi</td>\n",
       "      <td>Cochin</td>\n",
       "      <td>DEL → BOM → COK</td>\n",
       "      <td>21:00</td>\n",
       "      <td>07:40 25 Jun</td>\n",
       "      <td>10h 40m</td>\n",
       "      <td>1 stop</td>\n",
       "      <td>No info</td>\n",
       "      <td>8372</td>\n",
       "    </tr>\n",
       "  </tbody>\n",
       "</table>\n",
       "</div>"
      ],
      "text/plain": [
       "   Unnamed: 0            Airline Date_of_Journey   Source Destination  \\\n",
       "0           0        Jet Airways      27/03/2019    Delhi      Cochin   \n",
       "1           1        Jet Airways       1/05/2019  Kolkata    Banglore   \n",
       "2           2  Multiple carriers       6/03/2019    Delhi      Cochin   \n",
       "3           3  Multiple carriers       6/06/2019    Delhi      Cochin   \n",
       "4           4          Air India      24/06/2019    Delhi      Cochin   \n",
       "\n",
       "                   Route Dep_Time  Arrival_Time Duration Total_Stops  \\\n",
       "0  DEL → MAA → BOM → COK    05:10         18:50  13h 40m     2 stops   \n",
       "1        CCU → DEL → BLR    20:25  14:25 02 May      18h      1 stop   \n",
       "2        DEL → BOM → COK    09:00         15:30   6h 30m      1 stop   \n",
       "3        DEL → BOM → COK    17:00  01:30 07 Jun   8h 30m      1 stop   \n",
       "4        DEL → BOM → COK    21:00  07:40 25 Jun  10h 40m      1 stop   \n",
       "\n",
       "               Additional_Info  Price  \n",
       "0  In-flight meal not included   8728  \n",
       "1                      No info  11467  \n",
       "2                      No info  15078  \n",
       "3                      No info   7198  \n",
       "4                      No info   8372  "
      ]
     },
     "execution_count": 25,
     "metadata": {},
     "output_type": "execute_result"
    }
   ],
   "source": [
    "test_df = pd.read_excel('Final_Test_set.xlsx')\n",
    "\n",
    "test_df.head()"
   ]
  },
  {
   "cell_type": "code",
   "execution_count": 26,
   "id": "15ffcd73-920a-4ed3-8503-6021b9d18aac",
   "metadata": {},
   "outputs": [],
   "source": [
    "test_df=test_df.drop(columns=['Unnamed: 0'], axis=1)"
   ]
  },
  {
   "cell_type": "code",
   "execution_count": 27,
   "id": "37094beb-54a0-4d83-b746-6fe48f3ff421",
   "metadata": {},
   "outputs": [
    {
     "data": {
      "text/html": [
       "<div>\n",
       "<style scoped>\n",
       "    .dataframe tbody tr th:only-of-type {\n",
       "        vertical-align: middle;\n",
       "    }\n",
       "\n",
       "    .dataframe tbody tr th {\n",
       "        vertical-align: top;\n",
       "    }\n",
       "\n",
       "    .dataframe thead th {\n",
       "        text-align: right;\n",
       "    }\n",
       "</style>\n",
       "<table border=\"1\" class=\"dataframe\">\n",
       "  <thead>\n",
       "    <tr style=\"text-align: right;\">\n",
       "      <th></th>\n",
       "      <th>Airline</th>\n",
       "      <th>Date_of_Journey</th>\n",
       "      <th>Source</th>\n",
       "      <th>Destination</th>\n",
       "      <th>Route</th>\n",
       "      <th>Dep_Time</th>\n",
       "      <th>Arrival_Time</th>\n",
       "      <th>Duration</th>\n",
       "      <th>Total_Stops</th>\n",
       "      <th>Additional_Info</th>\n",
       "      <th>Price</th>\n",
       "    </tr>\n",
       "  </thead>\n",
       "  <tbody>\n",
       "    <tr>\n",
       "      <th>0</th>\n",
       "      <td>Jet Airways</td>\n",
       "      <td>27/03/2019</td>\n",
       "      <td>Delhi</td>\n",
       "      <td>Cochin</td>\n",
       "      <td>DEL → MAA → BOM → COK</td>\n",
       "      <td>05:10</td>\n",
       "      <td>18:50</td>\n",
       "      <td>13h 40m</td>\n",
       "      <td>2 stops</td>\n",
       "      <td>In-flight meal not included</td>\n",
       "      <td>8728</td>\n",
       "    </tr>\n",
       "    <tr>\n",
       "      <th>1</th>\n",
       "      <td>Jet Airways</td>\n",
       "      <td>1/05/2019</td>\n",
       "      <td>Kolkata</td>\n",
       "      <td>Banglore</td>\n",
       "      <td>CCU → DEL → BLR</td>\n",
       "      <td>20:25</td>\n",
       "      <td>14:25 02 May</td>\n",
       "      <td>18h</td>\n",
       "      <td>1 stop</td>\n",
       "      <td>No info</td>\n",
       "      <td>11467</td>\n",
       "    </tr>\n",
       "    <tr>\n",
       "      <th>2</th>\n",
       "      <td>Multiple carriers</td>\n",
       "      <td>6/03/2019</td>\n",
       "      <td>Delhi</td>\n",
       "      <td>Cochin</td>\n",
       "      <td>DEL → BOM → COK</td>\n",
       "      <td>09:00</td>\n",
       "      <td>15:30</td>\n",
       "      <td>6h 30m</td>\n",
       "      <td>1 stop</td>\n",
       "      <td>No info</td>\n",
       "      <td>15078</td>\n",
       "    </tr>\n",
       "    <tr>\n",
       "      <th>3</th>\n",
       "      <td>Multiple carriers</td>\n",
       "      <td>6/06/2019</td>\n",
       "      <td>Delhi</td>\n",
       "      <td>Cochin</td>\n",
       "      <td>DEL → BOM → COK</td>\n",
       "      <td>17:00</td>\n",
       "      <td>01:30 07 Jun</td>\n",
       "      <td>8h 30m</td>\n",
       "      <td>1 stop</td>\n",
       "      <td>No info</td>\n",
       "      <td>7198</td>\n",
       "    </tr>\n",
       "    <tr>\n",
       "      <th>4</th>\n",
       "      <td>Air India</td>\n",
       "      <td>24/06/2019</td>\n",
       "      <td>Delhi</td>\n",
       "      <td>Cochin</td>\n",
       "      <td>DEL → BOM → COK</td>\n",
       "      <td>21:00</td>\n",
       "      <td>07:40 25 Jun</td>\n",
       "      <td>10h 40m</td>\n",
       "      <td>1 stop</td>\n",
       "      <td>No info</td>\n",
       "      <td>8372</td>\n",
       "    </tr>\n",
       "    <tr>\n",
       "      <th>...</th>\n",
       "      <td>...</td>\n",
       "      <td>...</td>\n",
       "      <td>...</td>\n",
       "      <td>...</td>\n",
       "      <td>...</td>\n",
       "      <td>...</td>\n",
       "      <td>...</td>\n",
       "      <td>...</td>\n",
       "      <td>...</td>\n",
       "      <td>...</td>\n",
       "      <td>...</td>\n",
       "    </tr>\n",
       "    <tr>\n",
       "      <th>2132</th>\n",
       "      <td>Air Asia</td>\n",
       "      <td>9/04/2019</td>\n",
       "      <td>Kolkata</td>\n",
       "      <td>Banglore</td>\n",
       "      <td>CCU → BLR</td>\n",
       "      <td>19:55</td>\n",
       "      <td>22:25</td>\n",
       "      <td>2h 30m</td>\n",
       "      <td>non-stop</td>\n",
       "      <td>No info</td>\n",
       "      <td>4107</td>\n",
       "    </tr>\n",
       "    <tr>\n",
       "      <th>2133</th>\n",
       "      <td>Air India</td>\n",
       "      <td>27/04/2019</td>\n",
       "      <td>Kolkata</td>\n",
       "      <td>Banglore</td>\n",
       "      <td>CCU → BLR</td>\n",
       "      <td>20:45</td>\n",
       "      <td>23:20</td>\n",
       "      <td>2h 35m</td>\n",
       "      <td>non-stop</td>\n",
       "      <td>No info</td>\n",
       "      <td>4145</td>\n",
       "    </tr>\n",
       "    <tr>\n",
       "      <th>2134</th>\n",
       "      <td>Jet Airways</td>\n",
       "      <td>27/04/2019</td>\n",
       "      <td>Banglore</td>\n",
       "      <td>Delhi</td>\n",
       "      <td>BLR → DEL</td>\n",
       "      <td>08:20</td>\n",
       "      <td>11:20</td>\n",
       "      <td>3h</td>\n",
       "      <td>non-stop</td>\n",
       "      <td>No info</td>\n",
       "      <td>7229</td>\n",
       "    </tr>\n",
       "    <tr>\n",
       "      <th>2135</th>\n",
       "      <td>Vistara</td>\n",
       "      <td>01/03/2019</td>\n",
       "      <td>Banglore</td>\n",
       "      <td>New Delhi</td>\n",
       "      <td>BLR → DEL</td>\n",
       "      <td>11:30</td>\n",
       "      <td>14:10</td>\n",
       "      <td>2h 40m</td>\n",
       "      <td>non-stop</td>\n",
       "      <td>No info</td>\n",
       "      <td>12648</td>\n",
       "    </tr>\n",
       "    <tr>\n",
       "      <th>2136</th>\n",
       "      <td>Air India</td>\n",
       "      <td>9/05/2019</td>\n",
       "      <td>Delhi</td>\n",
       "      <td>Cochin</td>\n",
       "      <td>DEL → GOI → BOM → COK</td>\n",
       "      <td>10:55</td>\n",
       "      <td>19:15</td>\n",
       "      <td>8h 20m</td>\n",
       "      <td>2 stops</td>\n",
       "      <td>No info</td>\n",
       "      <td>11753</td>\n",
       "    </tr>\n",
       "  </tbody>\n",
       "</table>\n",
       "<p>2137 rows × 11 columns</p>\n",
       "</div>"
      ],
      "text/plain": [
       "                Airline Date_of_Journey    Source Destination  \\\n",
       "0           Jet Airways      27/03/2019     Delhi      Cochin   \n",
       "1           Jet Airways       1/05/2019   Kolkata    Banglore   \n",
       "2     Multiple carriers       6/03/2019     Delhi      Cochin   \n",
       "3     Multiple carriers       6/06/2019     Delhi      Cochin   \n",
       "4             Air India      24/06/2019     Delhi      Cochin   \n",
       "...                 ...             ...       ...         ...   \n",
       "2132           Air Asia       9/04/2019   Kolkata    Banglore   \n",
       "2133          Air India      27/04/2019   Kolkata    Banglore   \n",
       "2134        Jet Airways      27/04/2019  Banglore       Delhi   \n",
       "2135            Vistara      01/03/2019  Banglore   New Delhi   \n",
       "2136          Air India       9/05/2019     Delhi      Cochin   \n",
       "\n",
       "                      Route Dep_Time  Arrival_Time Duration Total_Stops  \\\n",
       "0     DEL → MAA → BOM → COK    05:10         18:50  13h 40m     2 stops   \n",
       "1           CCU → DEL → BLR    20:25  14:25 02 May      18h      1 stop   \n",
       "2           DEL → BOM → COK    09:00         15:30   6h 30m      1 stop   \n",
       "3           DEL → BOM → COK    17:00  01:30 07 Jun   8h 30m      1 stop   \n",
       "4           DEL → BOM → COK    21:00  07:40 25 Jun  10h 40m      1 stop   \n",
       "...                     ...      ...           ...      ...         ...   \n",
       "2132              CCU → BLR    19:55         22:25   2h 30m    non-stop   \n",
       "2133              CCU → BLR    20:45         23:20   2h 35m    non-stop   \n",
       "2134              BLR → DEL    08:20         11:20       3h    non-stop   \n",
       "2135              BLR → DEL    11:30         14:10   2h 40m    non-stop   \n",
       "2136  DEL → GOI → BOM → COK    10:55         19:15   8h 20m     2 stops   \n",
       "\n",
       "                  Additional_Info  Price  \n",
       "0     In-flight meal not included   8728  \n",
       "1                         No info  11467  \n",
       "2                         No info  15078  \n",
       "3                         No info   7198  \n",
       "4                         No info   8372  \n",
       "...                           ...    ...  \n",
       "2132                      No info   4107  \n",
       "2133                      No info   4145  \n",
       "2134                      No info   7229  \n",
       "2135                      No info  12648  \n",
       "2136                      No info  11753  \n",
       "\n",
       "[2137 rows x 11 columns]"
      ]
     },
     "execution_count": 27,
     "metadata": {},
     "output_type": "execute_result"
    }
   ],
   "source": [
    "test_df"
   ]
  },
  {
   "cell_type": "markdown",
   "id": "cb77f4ba-cda6-44a5-bb22-214b70d5a877",
   "metadata": {},
   "source": [
    "#convert these into numarical values as before"
   ]
  },
  {
   "cell_type": "code",
   "execution_count": 28,
   "id": "8d37c429-8f9a-46d1-8f66-dbb1e8e6c78a",
   "metadata": {},
   "outputs": [
    {
     "name": "stderr",
     "output_type": "stream",
     "text": [
      "C:\\Users\\Tony\\AppData\\Local\\Temp\\ipykernel_16056\\1370086651.py:4: UserWarning: Parsing dates in %d/%m/%Y format when dayfirst=False (the default) was specified. Pass `dayfirst=True` or specify a format to silence this warning.\n",
      "  test_df[col] = pd.to_datetime(test_df[col])\n",
      "C:\\Users\\Tony\\AppData\\Local\\Temp\\ipykernel_16056\\1370086651.py:4: UserWarning: Could not infer format, so each element will be parsed individually, falling back to `dateutil`. To ensure parsing is consistent and as-expected, please specify a format.\n",
      "  test_df[col] = pd.to_datetime(test_df[col])\n",
      "C:\\Users\\Tony\\AppData\\Local\\Temp\\ipykernel_16056\\1370086651.py:4: UserWarning: Could not infer format, so each element will be parsed individually, falling back to `dateutil`. To ensure parsing is consistent and as-expected, please specify a format.\n",
      "  test_df[col] = pd.to_datetime(test_df[col])\n"
     ]
    }
   ],
   "source": [
    "test_df.dropna(inplace=True)\n",
    "\n",
    "def change_into_datetime(col):\n",
    "    test_df[col] = pd.to_datetime(test_df[col])\n",
    "\n",
    "for i in ['Date_of_Journey','Dep_Time','Arrival_Time']:\n",
    "    change_into_datetime(i)\n",
    "\n",
    "test_df['Journey_date'] = test_df['Date_of_Journey'].dt.day\n",
    "test_df['Journey_month'] = test_df['Date_of_Journey'].dt.month\n",
    "\n",
    "def extract_hour(test_df,col):\n",
    "    test_df[col + '_hour'] = test_df[col].dt.hour\n",
    "\n",
    "def extract_minute(train_df,col):\n",
    "    test_df[col + '_minute'] = test_df[col].dt.minute\n",
    "\n",
    "\n",
    "extract_hour(test_df,'Dep_Time')\n",
    "extract_minute(test_df,'Dep_Time')\n",
    "\n",
    "extract_hour(test_df,'Arrival_Time')\n",
    "extract_minute(test_df,'Arrival_Time')\n",
    "\n",
    "test_df.drop(columns=['Arrival_Time','Dep_Time','Date_of_Journey'], axis=1, inplace=True)"
   ]
  },
  {
   "cell_type": "code",
   "execution_count": 29,
   "id": "d06002f4-1635-4648-b59d-b753c8113397",
   "metadata": {},
   "outputs": [],
   "source": [
    "duration = list(test_df['Duration'])\n",
    "for i in range (len(duration)):\n",
    "    if len(duration[i].split(' '))==2:\n",
    "        pass\n",
    "    else:\n",
    "        if 'h' in duration[i]:\n",
    "              duration[i] = duration[i] + ' 0m'\n",
    "        else:\n",
    "              duration[i] = '0h ' + duration[i]\n",
    "\n",
    "\n",
    "test_df['Duration'] = duration\n",
    "\n",
    "def hour(x):\n",
    "    return x.split(' ')[0][0:-1]\n",
    "\n",
    "def minute(x):\n",
    "    return x.split(' ')[1][0:-1]\n",
    "\n",
    "test_df['Duration Hours'] = test_df['Duration'].apply(hour).astype(int)\n",
    "test_df['Duration Minutes'] = test_df['Duration'].apply(minute).astype(int)\n",
    "\n",
    "test_df.drop(['Duration','Additional_Info'],axis=1,inplace=True)"
   ]
  },
  {
   "cell_type": "code",
   "execution_count": 30,
   "id": "72d99bfa-08c6-49b1-8e18-4b0fab8f3f80",
   "metadata": {},
   "outputs": [
    {
     "data": {
      "text/plain": [
       "['Price',\n",
       " 'Journey_date',\n",
       " 'Journey_month',\n",
       " 'Dep_Time_hour',\n",
       " 'Dep_Time_minute',\n",
       " 'Arrival_Time_hour',\n",
       " 'Arrival_Time_minute',\n",
       " 'Duration Hours',\n",
       " 'Duration Minutes']"
      ]
     },
     "execution_count": 30,
     "metadata": {},
     "output_type": "execute_result"
    }
   ],
   "source": [
    "objects_col = [col for col in test_df.columns if test_df[col].dtype=='O']\n",
    "objects_col\n",
    "\n",
    "numerical_col = [col for col in test_df.columns if test_df[col].dtype!='O']\n",
    "numerical_col"
   ]
  },
  {
   "cell_type": "code",
   "execution_count": 31,
   "id": "690258de-9b4d-4be4-86d4-89dfce0c118e",
   "metadata": {},
   "outputs": [],
   "source": [
    "objects = test_df[objects_col]"
   ]
  },
  {
   "cell_type": "code",
   "execution_count": 32,
   "id": "190189f5-cef2-4a76-9e35-0c2d52ed7bac",
   "metadata": {},
   "outputs": [
    {
     "name": "stderr",
     "output_type": "stream",
     "text": [
      "C:\\Users\\Tony\\AppData\\Local\\Temp\\ipykernel_16056\\3504529501.py:8: SettingWithCopyWarning: \n",
      "A value is trying to be set on a copy of a slice from a DataFrame.\n",
      "Try using .loc[row_indexer,col_indexer] = value instead\n",
      "\n",
      "See the caveats in the documentation: https://pandas.pydata.org/pandas-docs/stable/user_guide/indexing.html#returning-a-view-versus-a-copy\n",
      "  objects['Route_1'] = route_lst.str[0]\n",
      "C:\\Users\\Tony\\AppData\\Local\\Temp\\ipykernel_16056\\3504529501.py:9: SettingWithCopyWarning: \n",
      "A value is trying to be set on a copy of a slice from a DataFrame.\n",
      "Try using .loc[row_indexer,col_indexer] = value instead\n",
      "\n",
      "See the caveats in the documentation: https://pandas.pydata.org/pandas-docs/stable/user_guide/indexing.html#returning-a-view-versus-a-copy\n",
      "  objects['Route_2'] = route_lst.str[1]\n",
      "C:\\Users\\Tony\\AppData\\Local\\Temp\\ipykernel_16056\\3504529501.py:10: SettingWithCopyWarning: \n",
      "A value is trying to be set on a copy of a slice from a DataFrame.\n",
      "Try using .loc[row_indexer,col_indexer] = value instead\n",
      "\n",
      "See the caveats in the documentation: https://pandas.pydata.org/pandas-docs/stable/user_guide/indexing.html#returning-a-view-versus-a-copy\n",
      "  objects['Route_3'] = route_lst.str[2]\n",
      "C:\\Users\\Tony\\AppData\\Local\\Temp\\ipykernel_16056\\3504529501.py:11: SettingWithCopyWarning: \n",
      "A value is trying to be set on a copy of a slice from a DataFrame.\n",
      "Try using .loc[row_indexer,col_indexer] = value instead\n",
      "\n",
      "See the caveats in the documentation: https://pandas.pydata.org/pandas-docs/stable/user_guide/indexing.html#returning-a-view-versus-a-copy\n",
      "  objects['Route_4'] = route_lst.str[3]\n",
      "C:\\Users\\Tony\\AppData\\Local\\Temp\\ipykernel_16056\\3504529501.py:12: SettingWithCopyWarning: \n",
      "A value is trying to be set on a copy of a slice from a DataFrame.\n",
      "Try using .loc[row_indexer,col_indexer] = value instead\n",
      "\n",
      "See the caveats in the documentation: https://pandas.pydata.org/pandas-docs/stable/user_guide/indexing.html#returning-a-view-versus-a-copy\n",
      "  objects['Route_5'] = route_lst.str[4]\n"
     ]
    }
   ],
   "source": [
    "Airlines_df = pd.get_dummies(objects['Airline'], dtype=int)\n",
    "\n",
    "Destination_df = pd.get_dummies(objects['Destination'], dtype=int)\n",
    "\n",
    "Source_df = pd.get_dummies(objects['Source'], dtype=int)\n",
    "\n",
    "route_lst = objects['Route'].str.split('→')\n",
    "objects['Route_1'] = route_lst.str[0]\n",
    "objects['Route_2'] = route_lst.str[1]\n",
    "objects['Route_3'] = route_lst.str[2]\n",
    "objects['Route_4'] = route_lst.str[3]\n",
    "objects['Route_5'] = route_lst.str[4]"
   ]
  },
  {
   "cell_type": "code",
   "execution_count": 33,
   "id": "2fdf8199-27c1-4958-becd-8b684c1cd076",
   "metadata": {},
   "outputs": [
    {
     "name": "stderr",
     "output_type": "stream",
     "text": [
      "C:\\Users\\Tony\\AppData\\Local\\Temp\\ipykernel_16056\\1101527732.py:2: FutureWarning: A value is trying to be set on a copy of a DataFrame or Series through chained assignment using an inplace method.\n",
      "The behavior will change in pandas 3.0. This inplace method will never work because the intermediate object on which we are setting values always behaves as a copy.\n",
      "\n",
      "For example, when doing 'df[col].method(value, inplace=True)', try using 'df.method({col: value}, inplace=True)' or df[col] = df[col].method(value) instead, to perform the operation inplace on the original object.\n",
      "\n",
      "\n",
      "  objects[i].fillna('None',inplace=True)\n",
      "C:\\Users\\Tony\\AppData\\Local\\Temp\\ipykernel_16056\\1101527732.py:2: SettingWithCopyWarning: \n",
      "A value is trying to be set on a copy of a slice from a DataFrame\n",
      "\n",
      "See the caveats in the documentation: https://pandas.pydata.org/pandas-docs/stable/user_guide/indexing.html#returning-a-view-versus-a-copy\n",
      "  objects[i].fillna('None',inplace=True)\n"
     ]
    }
   ],
   "source": [
    "for i in ['Route_3','Route_4','Route_5']:\n",
    "    objects[i].fillna('None',inplace=True)"
   ]
  },
  {
   "cell_type": "code",
   "execution_count": 34,
   "id": "5ab16db3-bf0a-4b33-8591-825aea98250e",
   "metadata": {},
   "outputs": [],
   "source": [
    "from sklearn.preprocessing import LabelEncoder\n",
    "le = LabelEncoder()"
   ]
  },
  {
   "cell_type": "code",
   "execution_count": 35,
   "id": "e2a74e47-d189-4897-872e-ccc32c37571c",
   "metadata": {},
   "outputs": [
    {
     "name": "stderr",
     "output_type": "stream",
     "text": [
      "C:\\Users\\Tony\\AppData\\Local\\Temp\\ipykernel_16056\\2977048886.py:2: SettingWithCopyWarning: \n",
      "A value is trying to be set on a copy of a slice from a DataFrame.\n",
      "Try using .loc[row_indexer,col_indexer] = value instead\n",
      "\n",
      "See the caveats in the documentation: https://pandas.pydata.org/pandas-docs/stable/user_guide/indexing.html#returning-a-view-versus-a-copy\n",
      "  objects[i] = le.fit_transform(objects[i])\n",
      "C:\\Users\\Tony\\AppData\\Local\\Temp\\ipykernel_16056\\2977048886.py:2: SettingWithCopyWarning: \n",
      "A value is trying to be set on a copy of a slice from a DataFrame.\n",
      "Try using .loc[row_indexer,col_indexer] = value instead\n",
      "\n",
      "See the caveats in the documentation: https://pandas.pydata.org/pandas-docs/stable/user_guide/indexing.html#returning-a-view-versus-a-copy\n",
      "  objects[i] = le.fit_transform(objects[i])\n",
      "C:\\Users\\Tony\\AppData\\Local\\Temp\\ipykernel_16056\\2977048886.py:2: SettingWithCopyWarning: \n",
      "A value is trying to be set on a copy of a slice from a DataFrame.\n",
      "Try using .loc[row_indexer,col_indexer] = value instead\n",
      "\n",
      "See the caveats in the documentation: https://pandas.pydata.org/pandas-docs/stable/user_guide/indexing.html#returning-a-view-versus-a-copy\n",
      "  objects[i] = le.fit_transform(objects[i])\n",
      "C:\\Users\\Tony\\AppData\\Local\\Temp\\ipykernel_16056\\2977048886.py:2: SettingWithCopyWarning: \n",
      "A value is trying to be set on a copy of a slice from a DataFrame.\n",
      "Try using .loc[row_indexer,col_indexer] = value instead\n",
      "\n",
      "See the caveats in the documentation: https://pandas.pydata.org/pandas-docs/stable/user_guide/indexing.html#returning-a-view-versus-a-copy\n",
      "  objects[i] = le.fit_transform(objects[i])\n",
      "C:\\Users\\Tony\\AppData\\Local\\Temp\\ipykernel_16056\\2977048886.py:2: SettingWithCopyWarning: \n",
      "A value is trying to be set on a copy of a slice from a DataFrame.\n",
      "Try using .loc[row_indexer,col_indexer] = value instead\n",
      "\n",
      "See the caveats in the documentation: https://pandas.pydata.org/pandas-docs/stable/user_guide/indexing.html#returning-a-view-versus-a-copy\n",
      "  objects[i] = le.fit_transform(objects[i])\n"
     ]
    }
   ],
   "source": [
    "for i in ['Route_1','Route_2','Route_3','Route_4','Route_5']:\n",
    "    objects[i] = le.fit_transform(objects[i])"
   ]
  },
  {
   "cell_type": "code",
   "execution_count": 36,
   "id": "4dceff02-88f8-4fff-b359-b34d425199da",
   "metadata": {},
   "outputs": [
    {
     "name": "stderr",
     "output_type": "stream",
     "text": [
      "C:\\Users\\Tony\\AppData\\Local\\Temp\\ipykernel_16056\\3951685402.py:1: SettingWithCopyWarning: \n",
      "A value is trying to be set on a copy of a slice from a DataFrame\n",
      "\n",
      "See the caveats in the documentation: https://pandas.pydata.org/pandas-docs/stable/user_guide/indexing.html#returning-a-view-versus-a-copy\n",
      "  objects.drop(['Route'],axis=1,inplace=True)\n"
     ]
    }
   ],
   "source": [
    "objects.drop(['Route'],axis=1,inplace=True)"
   ]
  },
  {
   "cell_type": "code",
   "execution_count": 37,
   "id": "7beff7a1-4c46-449d-a26f-e148af56814d",
   "metadata": {},
   "outputs": [
    {
     "name": "stderr",
     "output_type": "stream",
     "text": [
      "C:\\Users\\Tony\\AppData\\Local\\Temp\\ipykernel_16056\\4206705827.py:3: SettingWithCopyWarning: \n",
      "A value is trying to be set on a copy of a slice from a DataFrame.\n",
      "Try using .loc[row_indexer,col_indexer] = value instead\n",
      "\n",
      "See the caveats in the documentation: https://pandas.pydata.org/pandas-docs/stable/user_guide/indexing.html#returning-a-view-versus-a-copy\n",
      "  objects['Total_Stops'] = objects['Total_Stops'].map(dict)\n"
     ]
    }
   ],
   "source": [
    "dict = {'non-stop':0, '2 stops':2, '1 stop':1, '3 stops':3, '4 stops':4}\n",
    "\n",
    "objects['Total_Stops'] = objects['Total_Stops'].map(dict)"
   ]
  },
  {
   "cell_type": "code",
   "execution_count": 38,
   "id": "b90667d5-9627-4588-b345-b57a8390d334",
   "metadata": {},
   "outputs": [],
   "source": [
    "test_data = pd.concat([objects,Airlines_df,Source_df,Destination_df,test_df[numerical_col]],axis=1)"
   ]
  },
  {
   "cell_type": "code",
   "execution_count": 39,
   "id": "62ad4c66-6128-46ad-bfc4-65316e04d095",
   "metadata": {},
   "outputs": [],
   "source": [
    "test_data.drop(['Airline','Source','Destination'],axis=1,inplace=True)"
   ]
  },
  {
   "cell_type": "code",
   "execution_count": 40,
   "id": "325fd43e-3fb1-4c9e-8028-60e8b4eae879",
   "metadata": {},
   "outputs": [
    {
     "data": {
      "text/plain": [
       "(2136, 37)"
      ]
     },
     "execution_count": 40,
     "metadata": {},
     "output_type": "execute_result"
    }
   ],
   "source": [
    "test_data.shape"
   ]
  },
  {
   "cell_type": "code",
   "execution_count": 44,
   "id": "b9f1bdcc-3e18-49de-8506-fab080ebc2f6",
   "metadata": {},
   "outputs": [],
   "source": [
    "price_data=test_data['Price']"
   ]
  },
  {
   "cell_type": "code",
   "execution_count": 46,
   "id": "eff681e7-8ce9-45fe-810b-b666023a698c",
   "metadata": {},
   "outputs": [],
   "source": [
    "test_data=test_data.drop(columns=['Price'], axis=1)"
   ]
  },
  {
   "cell_type": "code",
   "execution_count": 49,
   "id": "2a555b99-64dc-4f3c-9c8a-bb7f6c068fa4",
   "metadata": {},
   "outputs": [
    {
     "data": {
      "text/html": [
       "<div>\n",
       "<style scoped>\n",
       "    .dataframe tbody tr th:only-of-type {\n",
       "        vertical-align: middle;\n",
       "    }\n",
       "\n",
       "    .dataframe tbody tr th {\n",
       "        vertical-align: top;\n",
       "    }\n",
       "\n",
       "    .dataframe thead th {\n",
       "        text-align: right;\n",
       "    }\n",
       "</style>\n",
       "<table border=\"1\" class=\"dataframe\">\n",
       "  <thead>\n",
       "    <tr style=\"text-align: right;\">\n",
       "      <th></th>\n",
       "      <th>Total_Stops</th>\n",
       "      <th>Route_1</th>\n",
       "      <th>Route_2</th>\n",
       "      <th>Route_3</th>\n",
       "      <th>Route_4</th>\n",
       "      <th>Route_5</th>\n",
       "      <th>Air Asia</th>\n",
       "      <th>Air India</th>\n",
       "      <th>GoAir</th>\n",
       "      <th>IndiGo</th>\n",
       "      <th>Jet Airways</th>\n",
       "      <th>Jet Airways Business</th>\n",
       "      <th>Multiple carriers</th>\n",
       "      <th>Multiple carriers Premium economy</th>\n",
       "      <th>SpiceJet</th>\n",
       "      <th>Vistara</th>\n",
       "      <th>Vistara Premium economy</th>\n",
       "      <th>Banglore</th>\n",
       "      <th>Chennai</th>\n",
       "      <th>Delhi</th>\n",
       "      <th>Kolkata</th>\n",
       "      <th>Mumbai</th>\n",
       "      <th>Banglore</th>\n",
       "      <th>Cochin</th>\n",
       "      <th>Delhi</th>\n",
       "      <th>Hyderabad</th>\n",
       "      <th>Kolkata</th>\n",
       "      <th>New Delhi</th>\n",
       "      <th>Journey_date</th>\n",
       "      <th>Journey_month</th>\n",
       "      <th>Dep_Time_hour</th>\n",
       "      <th>Dep_Time_minute</th>\n",
       "      <th>Arrival_Time_hour</th>\n",
       "      <th>Arrival_Time_minute</th>\n",
       "      <th>Duration Hours</th>\n",
       "      <th>Duration Minutes</th>\n",
       "    </tr>\n",
       "  </thead>\n",
       "  <tbody>\n",
       "    <tr>\n",
       "      <th>0</th>\n",
       "      <td>2</td>\n",
       "      <td>3</td>\n",
       "      <td>27</td>\n",
       "      <td>4</td>\n",
       "      <td>2</td>\n",
       "      <td>4</td>\n",
       "      <td>0</td>\n",
       "      <td>0</td>\n",
       "      <td>0</td>\n",
       "      <td>0</td>\n",
       "      <td>1</td>\n",
       "      <td>0</td>\n",
       "      <td>0</td>\n",
       "      <td>0</td>\n",
       "      <td>0</td>\n",
       "      <td>0</td>\n",
       "      <td>0</td>\n",
       "      <td>0</td>\n",
       "      <td>0</td>\n",
       "      <td>1</td>\n",
       "      <td>0</td>\n",
       "      <td>0</td>\n",
       "      <td>0</td>\n",
       "      <td>1</td>\n",
       "      <td>0</td>\n",
       "      <td>0</td>\n",
       "      <td>0</td>\n",
       "      <td>0</td>\n",
       "      <td>27</td>\n",
       "      <td>3</td>\n",
       "      <td>5</td>\n",
       "      <td>10</td>\n",
       "      <td>18</td>\n",
       "      <td>50</td>\n",
       "      <td>13</td>\n",
       "      <td>40</td>\n",
       "    </tr>\n",
       "    <tr>\n",
       "      <th>1</th>\n",
       "      <td>1</td>\n",
       "      <td>2</td>\n",
       "      <td>13</td>\n",
       "      <td>3</td>\n",
       "      <td>8</td>\n",
       "      <td>4</td>\n",
       "      <td>0</td>\n",
       "      <td>0</td>\n",
       "      <td>0</td>\n",
       "      <td>0</td>\n",
       "      <td>1</td>\n",
       "      <td>0</td>\n",
       "      <td>0</td>\n",
       "      <td>0</td>\n",
       "      <td>0</td>\n",
       "      <td>0</td>\n",
       "      <td>0</td>\n",
       "      <td>0</td>\n",
       "      <td>0</td>\n",
       "      <td>0</td>\n",
       "      <td>1</td>\n",
       "      <td>0</td>\n",
       "      <td>1</td>\n",
       "      <td>0</td>\n",
       "      <td>0</td>\n",
       "      <td>0</td>\n",
       "      <td>0</td>\n",
       "      <td>0</td>\n",
       "      <td>1</td>\n",
       "      <td>5</td>\n",
       "      <td>20</td>\n",
       "      <td>25</td>\n",
       "      <td>14</td>\n",
       "      <td>25</td>\n",
       "      <td>18</td>\n",
       "      <td>0</td>\n",
       "    </tr>\n",
       "    <tr>\n",
       "      <th>2</th>\n",
       "      <td>1</td>\n",
       "      <td>3</td>\n",
       "      <td>7</td>\n",
       "      <td>5</td>\n",
       "      <td>8</td>\n",
       "      <td>4</td>\n",
       "      <td>0</td>\n",
       "      <td>0</td>\n",
       "      <td>0</td>\n",
       "      <td>0</td>\n",
       "      <td>0</td>\n",
       "      <td>0</td>\n",
       "      <td>1</td>\n",
       "      <td>0</td>\n",
       "      <td>0</td>\n",
       "      <td>0</td>\n",
       "      <td>0</td>\n",
       "      <td>0</td>\n",
       "      <td>0</td>\n",
       "      <td>1</td>\n",
       "      <td>0</td>\n",
       "      <td>0</td>\n",
       "      <td>0</td>\n",
       "      <td>1</td>\n",
       "      <td>0</td>\n",
       "      <td>0</td>\n",
       "      <td>0</td>\n",
       "      <td>0</td>\n",
       "      <td>6</td>\n",
       "      <td>3</td>\n",
       "      <td>9</td>\n",
       "      <td>0</td>\n",
       "      <td>15</td>\n",
       "      <td>30</td>\n",
       "      <td>6</td>\n",
       "      <td>30</td>\n",
       "    </tr>\n",
       "    <tr>\n",
       "      <th>3</th>\n",
       "      <td>1</td>\n",
       "      <td>3</td>\n",
       "      <td>7</td>\n",
       "      <td>5</td>\n",
       "      <td>8</td>\n",
       "      <td>4</td>\n",
       "      <td>0</td>\n",
       "      <td>0</td>\n",
       "      <td>0</td>\n",
       "      <td>0</td>\n",
       "      <td>0</td>\n",
       "      <td>0</td>\n",
       "      <td>1</td>\n",
       "      <td>0</td>\n",
       "      <td>0</td>\n",
       "      <td>0</td>\n",
       "      <td>0</td>\n",
       "      <td>0</td>\n",
       "      <td>0</td>\n",
       "      <td>1</td>\n",
       "      <td>0</td>\n",
       "      <td>0</td>\n",
       "      <td>0</td>\n",
       "      <td>1</td>\n",
       "      <td>0</td>\n",
       "      <td>0</td>\n",
       "      <td>0</td>\n",
       "      <td>0</td>\n",
       "      <td>6</td>\n",
       "      <td>6</td>\n",
       "      <td>17</td>\n",
       "      <td>0</td>\n",
       "      <td>1</td>\n",
       "      <td>30</td>\n",
       "      <td>8</td>\n",
       "      <td>30</td>\n",
       "    </tr>\n",
       "    <tr>\n",
       "      <th>4</th>\n",
       "      <td>1</td>\n",
       "      <td>3</td>\n",
       "      <td>7</td>\n",
       "      <td>5</td>\n",
       "      <td>8</td>\n",
       "      <td>4</td>\n",
       "      <td>0</td>\n",
       "      <td>1</td>\n",
       "      <td>0</td>\n",
       "      <td>0</td>\n",
       "      <td>0</td>\n",
       "      <td>0</td>\n",
       "      <td>0</td>\n",
       "      <td>0</td>\n",
       "      <td>0</td>\n",
       "      <td>0</td>\n",
       "      <td>0</td>\n",
       "      <td>0</td>\n",
       "      <td>0</td>\n",
       "      <td>1</td>\n",
       "      <td>0</td>\n",
       "      <td>0</td>\n",
       "      <td>0</td>\n",
       "      <td>1</td>\n",
       "      <td>0</td>\n",
       "      <td>0</td>\n",
       "      <td>0</td>\n",
       "      <td>0</td>\n",
       "      <td>24</td>\n",
       "      <td>6</td>\n",
       "      <td>21</td>\n",
       "      <td>0</td>\n",
       "      <td>7</td>\n",
       "      <td>40</td>\n",
       "      <td>10</td>\n",
       "      <td>40</td>\n",
       "    </tr>\n",
       "  </tbody>\n",
       "</table>\n",
       "</div>"
      ],
      "text/plain": [
       "   Total_Stops  Route_1  Route_2  Route_3  Route_4  Route_5  Air Asia  \\\n",
       "0            2        3       27        4        2        4         0   \n",
       "1            1        2       13        3        8        4         0   \n",
       "2            1        3        7        5        8        4         0   \n",
       "3            1        3        7        5        8        4         0   \n",
       "4            1        3        7        5        8        4         0   \n",
       "\n",
       "   Air India  GoAir  IndiGo  Jet Airways  Jet Airways Business  \\\n",
       "0          0      0       0            1                     0   \n",
       "1          0      0       0            1                     0   \n",
       "2          0      0       0            0                     0   \n",
       "3          0      0       0            0                     0   \n",
       "4          1      0       0            0                     0   \n",
       "\n",
       "   Multiple carriers  Multiple carriers Premium economy  SpiceJet  Vistara  \\\n",
       "0                  0                                  0         0        0   \n",
       "1                  0                                  0         0        0   \n",
       "2                  1                                  0         0        0   \n",
       "3                  1                                  0         0        0   \n",
       "4                  0                                  0         0        0   \n",
       "\n",
       "   Vistara Premium economy  Banglore  Chennai  Delhi  Kolkata  Mumbai  \\\n",
       "0                        0         0        0      1        0       0   \n",
       "1                        0         0        0      0        1       0   \n",
       "2                        0         0        0      1        0       0   \n",
       "3                        0         0        0      1        0       0   \n",
       "4                        0         0        0      1        0       0   \n",
       "\n",
       "   Banglore  Cochin  Delhi  Hyderabad  Kolkata  New Delhi  Journey_date  \\\n",
       "0         0       1      0          0        0          0            27   \n",
       "1         1       0      0          0        0          0             1   \n",
       "2         0       1      0          0        0          0             6   \n",
       "3         0       1      0          0        0          0             6   \n",
       "4         0       1      0          0        0          0            24   \n",
       "\n",
       "   Journey_month  Dep_Time_hour  Dep_Time_minute  Arrival_Time_hour  \\\n",
       "0              3              5               10                 18   \n",
       "1              5             20               25                 14   \n",
       "2              3              9                0                 15   \n",
       "3              6             17                0                  1   \n",
       "4              6             21                0                  7   \n",
       "\n",
       "   Arrival_Time_minute  Duration Hours  Duration Minutes  \n",
       "0                   50              13                40  \n",
       "1                   25              18                 0  \n",
       "2                   30               6                30  \n",
       "3                   30               8                30  \n",
       "4                   40              10                40  "
      ]
     },
     "execution_count": 49,
     "metadata": {},
     "output_type": "execute_result"
    }
   ],
   "source": [
    "pd.set_option('display.max_columns',37)\n",
    "test_data.head()"
   ]
  },
  {
   "cell_type": "code",
   "execution_count": 50,
   "id": "fbfcb2c2-58af-47d0-aa80-43bec6ae0190",
   "metadata": {},
   "outputs": [
    {
     "data": {
      "text/plain": [
       "(2136, 36)"
      ]
     },
     "execution_count": 50,
     "metadata": {},
     "output_type": "execute_result"
    }
   ],
   "source": [
    "test_data.shape"
   ]
  },
  {
   "cell_type": "code",
   "execution_count": 51,
   "id": "beecb723-0c4e-4481-990c-1f9c0477bd4b",
   "metadata": {},
   "outputs": [],
   "source": [
    "test_preds = rf.predict(test_data)"
   ]
  },
  {
   "cell_type": "code",
   "execution_count": 53,
   "id": "7cafff4b-4119-418f-bcbb-e86e046744b9",
   "metadata": {},
   "outputs": [
    {
     "data": {
      "text/plain": [
       "array([ 9918.58394535, 11393.29477695, 14514.51970843, ...,\n",
       "        8157.62231773, 11672.20509535, 12308.35037466])"
      ]
     },
     "execution_count": 53,
     "metadata": {},
     "output_type": "execute_result"
    }
   ],
   "source": [
    "test_preds\n",
    "#these are the predicted prices now lets compare these with real values"
   ]
  },
  {
   "cell_type": "code",
   "execution_count": 58,
   "id": "a065c0e2-5c8a-4103-b94c-54e2a122f76c",
   "metadata": {},
   "outputs": [
    {
     "name": "stdout",
     "output_type": "stream",
     "text": [
      "Accuracy is:0.5323815529608332\n"
     ]
    }
   ],
   "source": [
    "from sklearn import metrics\n",
    "\n",
    "r2_score = metrics.r2_score(price_data,test_preds)\n",
    "print('Accuracy is:{}'.format(r2_score))"
   ]
  },
  {
   "cell_type": "code",
   "execution_count": 59,
   "id": "78079c58-2b01-49c4-b23c-5c149c755c86",
   "metadata": {},
   "outputs": [
    {
     "data": {
      "text/plain": [
       "<Axes: xlabel='Price', ylabel='Count'>"
      ]
     },
     "execution_count": 59,
     "metadata": {},
     "output_type": "execute_result"
    },
    {
     "data": {
      "image/png": "[encoded data removed]",
      "text/plain": [
       "<Figure size 640x480 with 1 Axes>"
      ]
     },
     "metadata": {},
     "output_type": "display_data"
    }
   ],
   "source": [
    "sns.histplot(test_preds,color='red')\n",
    "sns.histplot(price_data,color='blue')"
   ]
  },
  {
   "cell_type": "code",
   "execution_count": 60,
   "id": "6b25d0ab-b216-4067-ba18-7646e6f6cfc5",
   "metadata": {},
   "outputs": [],
   "source": [
    "import pickle"
   ]
  },
  {
   "cell_type": "code",
   "execution_count": 63,
   "id": "da4f19cf-9196-4aa4-8d87-d652bb7a75c9",
   "metadata": {},
   "outputs": [],
   "source": [
    "dt=open('model_dt.pkl','rb')\n",
    "dt=pickle.load(dt)"
   ]
  },
  {
   "cell_type": "code",
   "execution_count": 64,
   "id": "11bbca50-eeef-47ef-8bd2-d17ca80ff401",
   "metadata": {},
   "outputs": [],
   "source": [
    "test_preds_dt = dt.predict(test_data)"
   ]
  },
  {
   "cell_type": "code",
   "execution_count": 65,
   "id": "ea3b0739-131c-4fbf-9949-b9b020e21f2f",
   "metadata": {},
   "outputs": [
    {
     "name": "stdout",
     "output_type": "stream",
     "text": [
      "Accuracy of dt model is:0.15159878444282904\n"
     ]
    }
   ],
   "source": [
    "r2_score_dt = metrics.r2_score(price_data,test_preds_dt)\n",
    "print('Accuracy of dt model is:{}'.format(r2_score_dt))"
   ]
  },
  {
   "cell_type": "code",
   "execution_count": 66,
   "id": "32da2fad-d3c2-4241-9ab4-9657baba147c",
   "metadata": {},
   "outputs": [
    {
     "data": {
      "text/plain": [
       "<Axes: xlabel='Price', ylabel='Count'>"
      ]
     },
     "execution_count": 66,
     "metadata": {},
     "output_type": "execute_result"
    },
    {
     "data": {
      "image/png": "[encoded data removed]",
      "text/plain": [
       "<Figure size 640x480 with 1 Axes>"
      ]
     },
     "metadata": {},
     "output_type": "display_data"
    }
   ],
   "source": [
    "sns.histplot(test_preds_dt,color='red')\n",
    "sns.histplot(price_data,color='blue')"
   ]
  },
  {
   "cell_type": "code",
   "execution_count": 67,
   "id": "ee475cf4-7a11-4d70-9431-eb7e7f78d68e",
   "metadata": {},
   "outputs": [],
   "source": [
    "#even after fine tuning RandomForestRegressor model gave more accuracy compared to decision tree model"
   ]
  },
  {
   "cell_type": "code",
   "execution_count": null,
   "id": "de076e23-1e42-402e-9ed2-54aef7303fda",
   "metadata": {},
   "outputs": [],
   "source": []
  }
 ],
 "metadata": {
  "kernelspec": {
   "display_name": "Python 3 (ipykernel)",
   "language": "python",
   "name": "python3"
  },
  "language_info": {
   "codemirror_mode": {
    "name": "ipython",
    "version": 3
   },
   "file_extension": ".py",
   "mimetype": "text/x-python",
   "name": "python",
   "nbconvert_exporter": "python",
   "pygments_lexer": "ipython3",
   "version": "3.12.1"
  }
 },
 "nbformat": 4,
 "nbformat_minor": 5
}
